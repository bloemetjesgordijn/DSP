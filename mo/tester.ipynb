{
 "cells": [
  {
   "cell_type": "code",
   "execution_count": null,
   "metadata": {},
   "outputs": [],
   "source": [
    "from data_scraper import DataScraper\n",
    "scraper = DataScraper()\n",
    "scraper.set_existing_files()\n",
    "results = scraper.query_uitspraken()"
   ]
  },
  {
   "cell_type": "code",
   "execution_count": null,
   "metadata": {},
   "outputs": [],
   "source": [
    "results = results[:3]\n",
    "for case in results:\n",
    "    parsed_id = case['TitelEmphasis'].replace(':', '-') \n",
    "    print(parsed_id)\n",
    "    if parsed_id in scraper.cases_already_scraped:\n",
    "        print('nah')\n",
    "        continue\n",
    "    else:\n",
    "        print('yeh')\n",
    "        scraper.handle_case(case, parsed_id)"
   ]
  },
  {
   "cell_type": "code",
   "execution_count": null,
   "metadata": {},
   "outputs": [],
   "source": [
    "print(scraper.case_verdict_df.head())\n"
   ]
  },
  {
   "cell_type": "code",
   "execution_count": null,
   "metadata": {},
   "outputs": [],
   "source": []
  }
 ],
 "metadata": {
  "interpreter": {
   "hash": "69467318da68caba975f9a9c79a37f5e1c516f3c9f38a41cb47b7f0241396aa7"
  },
  "kernelspec": {
   "display_name": "Python 3.9.9 64-bit ('dsp': conda)",
   "language": "python",
   "name": "python3"
  },
  "language_info": {
   "codemirror_mode": {
    "name": "ipython",
    "version": 3
   },
   "file_extension": ".py",
   "mimetype": "text/x-python",
   "name": "python",
   "nbconvert_exporter": "python",
   "pygments_lexer": "ipython3",
   "version": "3.9.9"
  },
  "orig_nbformat": 4
 },
 "nbformat": 4,
 "nbformat_minor": 2
}
