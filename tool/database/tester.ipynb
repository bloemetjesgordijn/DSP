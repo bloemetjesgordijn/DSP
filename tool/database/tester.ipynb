{
 "cells": [
  {
   "cell_type": "code",
   "execution_count": null,
   "metadata": {},
   "outputs": [],
   "source": [
    "from loader import Loader\n",
    "l = Loader()\n",
    "\n",
    "l.load_case_verdicts()\n",
    "df = l.case_verdict_df.copy()\n",
    "# l.load_case_data()\n",
    "# df = l.cases_df.copy()\n"
   ]
  },
  {
   "cell_type": "code",
   "execution_count": null,
   "metadata": {},
   "outputs": [],
   "source": [
    "import pandas as pd\n",
    "from constants import *\n",
    "\n",
    "df['gerechtscode'] = pd.DataFrame(df['case_id'].str.split('-').tolist(), columns=['a', 'b', 'code', 'd', 'e'])['code']\n",
    "df['instantie'] = df['gerechtscode'].map(GERECHTSCODE_INSTANTIE_MAPPING)\n",
    "df['locatie'] = pd.DataFrame(df['instantie'].str.split(' ', 2).tolist(), columns=['a', 'locatie', 'rest'])['locatie']\n",
    "\n",
    "for key, val in EXTRA_MAPPER.items():\n",
    "    df.loc[df['instantie'] == key, 'locatie'] = val\n",
    "\n",
    "# df['provincie'] = df['locatie'].map(LOCATIE_PROVINCIE_MAPPER)"
   ]
  },
  {
   "cell_type": "code",
   "execution_count": null,
   "metadata": {},
   "outputs": [],
   "source": [
    "for i, row in df.iterrows():\n",
    "    if 'peek' in row['procedure_soorten'].lower():\n",
    "        print(i)\n",
    "\n",
    "df.iloc[13515]"
   ]
  },
  {
   "cell_type": "code",
   "execution_count": null,
   "metadata": {},
   "outputs": [],
   "source": [
    "df.procedure_soorten = df.procedure_soorten.str.replace(\"Peek,\", \"\")\n",
    "df.procedure_soorten = df.procedure_soorten.apply(lambda x: x[1:-1].replace('\"', \"\").split(','))\n",
    "df.rechtsgebieden = df.rechtsgebieden.apply(lambda x: x[1:-1].replace('\"', \"\").split(','))\n",
    "\n",
    "df = df.explode('procedure_soorten').reset_index(drop=True)\n",
    "df = df.explode('rechtsgebieden').reset_index(drop=True)\n"
   ]
  },
  {
   "cell_type": "code",
   "execution_count": null,
   "metadata": {},
   "outputs": [],
   "source": [
    "df['rechtsgebieden'].value_counts()\n",
    "df['instantie'].value_counts()\n",
    "df['procedure_soorten'].value_counts()"
   ]
  },
  {
   "cell_type": "code",
   "execution_count": null,
   "metadata": {},
   "outputs": [],
   "source": [
    "for drug, drug_ingredients in DRUGS_AND_PRECURSORS_TABLEAU.items():\n",
    "    print(drug)\n",
    "    print(drug_ingredients['altnames'])\n",
    "    # drug_counts = drug_ingredients['altnames'].counting-stuff\n",
    "    for precursor, precursor_info in drug_ingredients['precursors'].items():\n",
    "        print(precursor)\n",
    "        print(precursor_info['altnames'])\n",
    "        # precursor_counts = precursor_info['altnames'].counting-stuff\n",
    "        for ppc, lvals in precursor_info['preprecursors'].items():\n",
    "            print(f\"{ppc:10}\")\n",
    "            print(              lvals)\n",
    "    print('-----------------------')\n",
    "    print('-----------------------')\n",
    "    print('')"
   ]
  },
  {
   "cell_type": "code",
   "execution_count": null,
   "metadata": {},
   "outputs": [],
   "source": [
    "from loader import Loader\n",
    "l = Loader()\n"
   ]
  },
  {
   "cell_type": "code",
   "execution_count": null,
   "metadata": {},
   "outputs": [],
   "source": [
    "from loader import Loader\n",
    "from sqlalchemy import create_engine\n",
    "l = Loader()\n",
    "\n",
    "l.propagate_count_changes()\n",
    "\n",
    "cols_to_drop = [col for col in l.drug_prevalence_count_tableau.columns if '_y' in col]\n",
    "cols_rename = {col: col[:-2] for col in l.drug_prevalence_count_tableau.columns if '_x' in col}\n",
    "l.drug_prevalence_count_tableau.drop(columns=cols_to_drop, inplace=True)\n",
    "l.drug_prevalence_count_tableau.rename(columns=cols_rename, inplace=True)\n",
    "\n",
    "df = l.drug_prevalence_count_tableau.sum(axis=0).reset_index()\n",
    "df.rename(columns={'index': 'col', 0: 'sum'}, inplace=True)\n",
    "\n",
    "cols_to_drop = df[df['sum'] == 0]['col'].tolist()\n",
    "l.drug_prevalence_count_tableau.drop(columns=cols_to_drop, inplace=True)\n",
    "\n",
    "engine = create_engine(l.connection_str)\n",
    "conn = engine.connect()\n",
    "l.drug_prevalence_count_tableau.to_sql('drug_prevalence_count_tableau', con=conn, schema='public', if_exists='replace', index=False, chunksize=500)\n",
    "conn.close()"
   ]
  },
  {
   "cell_type": "code",
   "execution_count": null,
   "metadata": {},
   "outputs": [],
   "source": [
    "l.propagate_count_changes()"
   ]
  },
  {
   "cell_type": "code",
   "execution_count": null,
   "metadata": {},
   "outputs": [],
   "source": [
    "l.drug_prevalence_count_tableau.head()"
   ]
  },
  {
   "cell_type": "code",
   "execution_count": null,
   "metadata": {},
   "outputs": [],
   "source": [
    "l.drug_prevalence_count_tableau.columns"
   ]
  },
  {
   "cell_type": "code",
   "execution_count": null,
   "metadata": {},
   "outputs": [],
   "source": [
    "cols_to_drop = [col for col in l.drug_prevalence_count_tableau.columns if '_y' in col]\n",
    "cols_rename = {col: col[:-2] for col in l.drug_prevalence_count_tableau.columns if '_x' in col}\n",
    "l.drug_prevalence_count_tableau.drop(columns=cols_to_drop, inplace=True)\n",
    "l.drug_prevalence_count_tableau.rename(columns=cols_rename, inplace=True)"
   ]
  },
  {
   "cell_type": "code",
   "execution_count": null,
   "metadata": {},
   "outputs": [],
   "source": [
    "df = l.drug_prevalence_count_tableau.sum(axis=0).reset_index()\n",
    "df.rename(columns={'index': 'col', 0: 'sum'}, inplace=True)"
   ]
  },
  {
   "cell_type": "code",
   "execution_count": null,
   "metadata": {},
   "outputs": [],
   "source": [
    "cols_to_drop = df[df['sum'] == 0]['col'].tolist()\n",
    "l.drug_prevalence_count_tableau.drop(columns=cols_to_drop, inplace=True)"
   ]
  }
 ],
 "metadata": {
  "interpreter": {
   "hash": "69467318da68caba975f9a9c79a37f5e1c516f3c9f38a41cb47b7f0241396aa7"
  },
  "kernelspec": {
   "display_name": "Python 3.9.9 64-bit ('dsp': conda)",
   "language": "python",
   "name": "python3"
  },
  "language_info": {
   "codemirror_mode": {
    "name": "ipython",
    "version": 3
   },
   "file_extension": ".py",
   "mimetype": "text/x-python",
   "name": "python",
   "nbconvert_exporter": "python",
   "pygments_lexer": "ipython3",
   "version": "3.9.9"
  },
  "orig_nbformat": 4
 },
 "nbformat": 4,
 "nbformat_minor": 2
}
