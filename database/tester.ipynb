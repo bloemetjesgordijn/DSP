{
 "cells": [
  {
   "cell_type": "code",
   "execution_count": 1,
   "metadata": {},
   "outputs": [],
   "source": [
    "from loader import Loader\n",
    "L = Loader()"
   ]
  },
  {
   "cell_type": "code",
   "execution_count": 2,
   "metadata": {},
   "outputs": [],
   "source": [
    "L.load_case_verdicts()"
   ]
  },
  {
   "cell_type": "code",
   "execution_count": 3,
   "metadata": {},
   "outputs": [
    {
     "data": {
      "text/plain": [
       "(17368, 2)"
      ]
     },
     "execution_count": 3,
     "metadata": {},
     "output_type": "execute_result"
    }
   ],
   "source": [
    "L.case_verdict_df.shape"
   ]
  },
  {
   "cell_type": "code",
   "execution_count": 8,
   "metadata": {},
   "outputs": [],
   "source": [
    "L.case_verdict_df['c'] = L.case_verdict_df['casetext'].str.count('mapa')"
   ]
  },
  {
   "cell_type": "code",
   "execution_count": 9,
   "metadata": {},
   "outputs": [
    {
     "data": {
      "text/html": [
       "<div>\n",
       "<style scoped>\n",
       "    .dataframe tbody tr th:only-of-type {\n",
       "        vertical-align: middle;\n",
       "    }\n",
       "\n",
       "    .dataframe tbody tr th {\n",
       "        vertical-align: top;\n",
       "    }\n",
       "\n",
       "    .dataframe thead th {\n",
       "        text-align: right;\n",
       "    }\n",
       "</style>\n",
       "<table border=\"1\" class=\"dataframe\">\n",
       "  <thead>\n",
       "    <tr style=\"text-align: right;\">\n",
       "      <th></th>\n",
       "      <th>caseid</th>\n",
       "      <th>casetext</th>\n",
       "      <th>c</th>\n",
       "    </tr>\n",
       "  </thead>\n",
       "  <tbody>\n",
       "    <tr>\n",
       "      <th>1380</th>\n",
       "      <td>ECLI-NL-RBMNE-2021-231</td>\n",
       "      <td>\\n\\nRECHTBANK MIDDEN-NEDERLAND\\n\\nStrafrecht\\n...</td>\n",
       "      <td>2</td>\n",
       "    </tr>\n",
       "    <tr>\n",
       "      <th>1932</th>\n",
       "      <td>ECLI-NL-RBSHE-2011-BR2042</td>\n",
       "      <td>\\n\\nvonnis\\nRECHTBANK 'S-HERTOGENBOSCH\\n \\nSec...</td>\n",
       "      <td>1</td>\n",
       "    </tr>\n",
       "    <tr>\n",
       "      <th>4452</th>\n",
       "      <td>ECLI-NL-RBMNE-2013-BZ4739</td>\n",
       "      <td>\\nRECHTBANK MIDDEN-NEDERLAND \\n\\nAfdeling stra...</td>\n",
       "      <td>1</td>\n",
       "    </tr>\n",
       "    <tr>\n",
       "      <th>4514</th>\n",
       "      <td>ECLI-NL-RBSHE-2011-BR2037</td>\n",
       "      <td>\\n\\nvonnis\\nRECHTBANK 'S-HERTOGENBOSCH\\n \\nSec...</td>\n",
       "      <td>2</td>\n",
       "    </tr>\n",
       "    <tr>\n",
       "      <th>6403</th>\n",
       "      <td>ECLI-NL-PHR-2016-1304</td>\n",
       "      <td>\\n\\n\\n\\nNr. 14/04776\\nZitting: 15 november 201...</td>\n",
       "      <td>3</td>\n",
       "    </tr>\n",
       "    <tr>\n",
       "      <th>6618</th>\n",
       "      <td>ECLI-NL-GHAMS-2016-1131</td>\n",
       "      <td>\\n\\nparketnummer: 23-000542-14 \\ndatum uitspra...</td>\n",
       "      <td>1</td>\n",
       "    </tr>\n",
       "    <tr>\n",
       "      <th>6702</th>\n",
       "      <td>ECLI-NL-RBLIM-2013-BZ9981</td>\n",
       "      <td>\\nRECHTBANK LIMBURG \\nZittingsplaats Roermond ...</td>\n",
       "      <td>1</td>\n",
       "    </tr>\n",
       "    <tr>\n",
       "      <th>9492</th>\n",
       "      <td>ECLI-NL-RBAMS-2008-BG7225</td>\n",
       "      <td>\\nvonnis \\nRECHTBANK AMSTERDAM \\nSector civiel...</td>\n",
       "      <td>1</td>\n",
       "    </tr>\n",
       "    <tr>\n",
       "      <th>9612</th>\n",
       "      <td>ECLI-NL-RVS-2021-1468</td>\n",
       "      <td>\\n\\n202006932/3/A3 202002668/2/A3 en\\n20200047...</td>\n",
       "      <td>1</td>\n",
       "    </tr>\n",
       "    <tr>\n",
       "      <th>12076</th>\n",
       "      <td>ECLI-NL-GHARL-2020-6633</td>\n",
       "      <td>\\n\\nAfdeling strafrecht\\n\\n\\nParketnummer:\\t21...</td>\n",
       "      <td>1</td>\n",
       "    </tr>\n",
       "    <tr>\n",
       "      <th>12872</th>\n",
       "      <td>ECLI-NL-GHAMS-2016-1112</td>\n",
       "      <td>\\nparketnummer: 23-000609-14 \\ndatum uitspraak...</td>\n",
       "      <td>1</td>\n",
       "    </tr>\n",
       "  </tbody>\n",
       "</table>\n",
       "</div>"
      ],
      "text/plain": [
       "                          caseid  \\\n",
       "1380      ECLI-NL-RBMNE-2021-231   \n",
       "1932   ECLI-NL-RBSHE-2011-BR2042   \n",
       "4452   ECLI-NL-RBMNE-2013-BZ4739   \n",
       "4514   ECLI-NL-RBSHE-2011-BR2037   \n",
       "6403       ECLI-NL-PHR-2016-1304   \n",
       "6618     ECLI-NL-GHAMS-2016-1131   \n",
       "6702   ECLI-NL-RBLIM-2013-BZ9981   \n",
       "9492   ECLI-NL-RBAMS-2008-BG7225   \n",
       "9612       ECLI-NL-RVS-2021-1468   \n",
       "12076    ECLI-NL-GHARL-2020-6633   \n",
       "12872    ECLI-NL-GHAMS-2016-1112   \n",
       "\n",
       "                                                casetext  c  \n",
       "1380   \\n\\nRECHTBANK MIDDEN-NEDERLAND\\n\\nStrafrecht\\n...  2  \n",
       "1932   \\n\\nvonnis\\nRECHTBANK 'S-HERTOGENBOSCH\\n \\nSec...  1  \n",
       "4452   \\nRECHTBANK MIDDEN-NEDERLAND \\n\\nAfdeling stra...  1  \n",
       "4514   \\n\\nvonnis\\nRECHTBANK 'S-HERTOGENBOSCH\\n \\nSec...  2  \n",
       "6403   \\n\\n\\n\\nNr. 14/04776\\nZitting: 15 november 201...  3  \n",
       "6618   \\n\\nparketnummer: 23-000542-14 \\ndatum uitspra...  1  \n",
       "6702   \\nRECHTBANK LIMBURG \\nZittingsplaats Roermond ...  1  \n",
       "9492   \\nvonnis \\nRECHTBANK AMSTERDAM \\nSector civiel...  1  \n",
       "9612   \\n\\n202006932/3/A3 202002668/2/A3 en\\n20200047...  1  \n",
       "12076  \\n\\nAfdeling strafrecht\\n\\n\\nParketnummer:\\t21...  1  \n",
       "12872  \\nparketnummer: 23-000609-14 \\ndatum uitspraak...  1  "
      ]
     },
     "execution_count": 9,
     "metadata": {},
     "output_type": "execute_result"
    }
   ],
   "source": [
    "L.case_verdict_df[L.case_verdict_df['c'] > 0]"
   ]
  },
  {
   "cell_type": "code",
   "execution_count": null,
   "metadata": {},
   "outputs": [],
   "source": []
  }
 ],
 "metadata": {
  "interpreter": {
   "hash": "69467318da68caba975f9a9c79a37f5e1c516f3c9f38a41cb47b7f0241396aa7"
  },
  "kernelspec": {
   "display_name": "Python 3.9.9 64-bit ('dsp': conda)",
   "language": "python",
   "name": "python3"
  },
  "language_info": {
   "codemirror_mode": {
    "name": "ipython",
    "version": 3
   },
   "file_extension": ".py",
   "mimetype": "text/x-python",
   "name": "python",
   "nbconvert_exporter": "python",
   "pygments_lexer": "ipython3",
   "version": "3.9.9"
  },
  "orig_nbformat": 4
 },
 "nbformat": 4,
 "nbformat_minor": 2
}
